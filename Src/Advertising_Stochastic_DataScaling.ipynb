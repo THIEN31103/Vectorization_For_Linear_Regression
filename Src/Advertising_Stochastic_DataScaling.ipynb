{
 "cells": [
  {
   "cell_type": "markdown",
   "id": "3a93899b",
   "metadata": {},
   "source": [
    "#### Data scaling"
   ]
  },
  {
   "cell_type": "code",
   "execution_count": 14,
   "id": "6722545a",
   "metadata": {},
   "outputs": [],
   "source": [
    "def scaling(data1, data2, data3):\n",
    "    data = data1 + data2 + data3\n",
    "    \n",
    "    max_value = max(data)\n",
    "    min_value = min(data)\n",
    "    mean_value = sum(data) / len(data)\n",
    "    \n",
    "    data1 = [(x - mean_value) / (max_value - min_value) for x in data1]\n",
    "    data2 = [(x - mean_value) / (max_value - min_value) for x in data2]\n",
    "    data3 = [(x - mean_value) / (max_value - min_value) for x in data3]\n",
    "    \n",
    "    return (data1, data2, data3), (mean_value, max_value, min_value)"
   ]
  },
  {
   "cell_type": "code",
   "execution_count": 15,
   "id": "c264c1b6",
   "metadata": {},
   "outputs": [
    {
     "name": "stdout",
     "output_type": "stream",
     "text": [
      "[-0.5694444444444445, 0.4305555555555555, 0.09722222222222217, -0.23611111111111116] [0.26388888888888884, -0.40277777777777785, 0.4305555555555555, -0.06944444444444449] [0.4305555555555555, -0.40277777777777785, -0.06944444444444449, 0.09722222222222217]\n",
      "4.416666666666667 7 1\n"
     ]
    }
   ],
   "source": [
    "data1 = [1, 7, 5, 3]\n",
    "data2 = [6, 2, 7, 4]\n",
    "data3 = [7, 2, 4, 5]\n",
    "\n",
    "(data1, data2, data3), (mean_value, max_value, min_value) = scaling(data1, data2, data3)\n",
    "print(data1, data2, data3)\n",
    "print(mean_value, max_value, min_value)"
   ]
  },
  {
   "cell_type": "code",
   "execution_count": 16,
   "id": "8722d72d",
   "metadata": {},
   "outputs": [
    {
     "name": "stdout",
     "output_type": "stream",
     "text": [
      "[0.5504267881241568, -0.07575404858299574, -0.16785931174089047, 0.285244601889339, 0.3840975033738194]\n",
      "[-0.09835863697705782, -0.09329790823211856, -0.07103070175438575, -0.08655026990553286, -0.1894517543859647]\n",
      "[0.007579284750337614, -0.07372975708502003, 0.007916666666666879, -0.028520580296895866, -0.028857962213225157]\n",
      "[22.1, 10.4, 12.0, 16.5, 17.9]\n",
      "296.4 0.0 66.95349999999993\n"
     ]
    }
   ],
   "source": [
    "import numpy as np\n",
    "\n",
    "def get_column(data, index):\n",
    "    result = [row[index] for row in data]\n",
    "    return result\n",
    "\n",
    "def scaling(data1, data2, data3):\n",
    "    data = data1 + data2 + data3\n",
    "    \n",
    "    max_value = max(data)\n",
    "    min_value = min(data)\n",
    "    mean_value = sum(data) / len(data)\n",
    "    \n",
    "    data1 = [(x - mean_value) / (max_value - min_value) for x in data1]\n",
    "    data2 = [(x - mean_value) / (max_value - min_value) for x in data2]\n",
    "    data3 = [(x - mean_value) / (max_value - min_value) for x in data3]\n",
    "    \n",
    "    return (data1, data2, data3), (mean_value, max_value, min_value)\n",
    "\n",
    "data = np.genfromtxt(r'E:\\AIO\\Vectorization_For_Linear_Regression\\Data\\advertising.csv', delimiter=',', skip_header=1).tolist()\n",
    "tv_data = get_column(data, 0)\n",
    "radio_data = get_column(data, 1)\n",
    "newspaper_data = get_column(data, 2)\n",
    "sales_data = get_column(data, 3)\n",
    "\n",
    "(tv_data, radio_data, newspaper_data), (mean_v, max_v, min_v) = scaling(tv_data, \n",
    "                                                                    radio_data, \n",
    "                                                                    newspaper_data)\n",
    "\n",
    "print(tv_data[:5])\n",
    "print(radio_data[:5])\n",
    "print(newspaper_data[:5])\n",
    "print(sales_data[:5])\n",
    "print(max_v, min_v, mean_v)"
   ]
  },
  {
   "cell_type": "markdown",
   "id": "9e349e20",
   "metadata": {},
   "source": [
    "#### implementation"
   ]
  },
  {
   "cell_type": "code",
   "execution_count": 17,
   "id": "438ce821",
   "metadata": {},
   "outputs": [
    {
     "name": "stdout",
     "output_type": "stream",
     "text": [
      "[230.1, 44.5, 17.2, 151.5, 180.8]\n",
      "[37.8, 39.3, 45.9, 41.3, 10.8]\n",
      "[69.2, 45.1, 69.3, 58.5, 58.4]\n",
      "[22.1, 10.4, 12.0, 16.5, 17.9]\n"
     ]
    }
   ],
   "source": [
    "# dataset\n",
    "import numpy as np\n",
    "import matplotlib.pyplot as plt\n",
    "import random\n",
    "\n",
    "def get_column(data, index):\n",
    "    result = [row[index] for row in data]\n",
    "    return result\n",
    "\n",
    "def scaling(data1, data2, data3):\n",
    "    data = data1 + data2 + data3\n",
    "    \n",
    "    max_value = max(data)\n",
    "    min_value = min(data)\n",
    "    mean_value = sum(data) / len(data)\n",
    "    \n",
    "    data1 = [(x - mean_value) / (max_value - min_value) for x in data1]\n",
    "    data2 = [(x - mean_value) / (max_value - min_value) for x in data2]\n",
    "    data3 = [(x - mean_value) / (max_value - min_value) for x in data3]\n",
    "    \n",
    "    return (data1, data2, data3), (mean_value, max_value, min_value)\n",
    "\n",
    "data = np.genfromtxt(r'E:\\AIO\\Vectorization_For_Linear_Regression\\Data\\advertising.csv', delimiter=',', skip_header=1).tolist()\n",
    "N = len(data)\n",
    "\n",
    "# get tv (index=0)\n",
    "tv_data = get_column(data, 0)\n",
    "print(tv_data[:5])\n",
    "\n",
    "# get radio (index=1)\n",
    "radio_data = get_column(data, 1)\n",
    "print(radio_data[:5])\n",
    "\n",
    "# get newspaper (index=2)\n",
    "newspaper_data = get_column(data, 2)\n",
    "print(newspaper_data[:5])\n",
    "\n",
    "# get sales (index=0)\n",
    "sales_data = get_column(data, 3)\n",
    "print(sales_data[:5])"
   ]
  },
  {
   "cell_type": "code",
   "execution_count": 18,
   "id": "0e1300be",
   "metadata": {},
   "outputs": [
    {
     "name": "stdout",
     "output_type": "stream",
     "text": [
      "[0.5504267881241568, -0.07575404858299574, -0.16785931174089047, 0.285244601889339, 0.3840975033738194]\n",
      "[-0.09835863697705782, -0.09329790823211856, -0.07103070175438575, -0.08655026990553286, -0.1894517543859647]\n",
      "[0.007579284750337614, -0.07372975708502003, 0.007916666666666879, -0.028520580296895866, -0.028857962213225157]\n",
      "66.95349999999993 296.4 0.0\n"
     ]
    }
   ],
   "source": [
    "# scale data (only for features)\n",
    "# remenber to scale input features in inference, therefore, we need to save max, min and mean values\n",
    "\n",
    "(tv_data, radio_data, newspaper_data), (mean_v, max_v, min_v) = scaling(tv_data, \n",
    "                                                                    radio_data, \n",
    "                                                                    newspaper_data)\n",
    "\n",
    "print(tv_data[:5])\n",
    "print(radio_data[:5])\n",
    "print(newspaper_data[:5])\n",
    "print(mean_v, max_v, min_v)"
   ]
  },
  {
   "cell_type": "code",
   "execution_count": 19,
   "id": "cc65ed05",
   "metadata": {},
   "outputs": [],
   "source": [
    "# compute output and loss\n",
    "def predict(x1, x2, x3, w1, w2, w3, b):\n",
    "    return w1*x1 + w2*x2 + w3*x3 + b\n",
    "\n",
    "def compute_loss(y_hat, y):\n",
    "    return (y_hat - y)**2\n",
    "\n",
    "# compute gradient\n",
    "def compute_gradient_wi(xi, y, y_hat):\n",
    "    dl_dwi = 2*xi*(y_hat-y)\n",
    "    return dl_dwi \n",
    "\n",
    "def compute_gradient_b(y, y_hat):\n",
    "    dl_db = 2*(y_hat-y)\n",
    "    return dl_db\n",
    "\n",
    "# update weights\n",
    "def update_weight_wi(wi, dl_dwi, lr):\n",
    "    wi = wi - lr*dl_dwi\n",
    "    return wi\n",
    "    \n",
    "def update_weight_b(b, dl_db, lr):    \n",
    "    b  = b - lr*dl_db    \n",
    "    return b"
   ]
  },
  {
   "cell_type": "code",
   "execution_count": 20,
   "id": "918b429f",
   "metadata": {},
   "outputs": [
    {
     "name": "stdout",
     "output_type": "stream",
     "text": [
      "-0.8551165509857693 1.4838057637696032 -1.4145102158449856 0\n"
     ]
    }
   ],
   "source": [
    "def initialize_params():\n",
    "    w1 = random.gauss(mu=0.0, sigma=1.0)\n",
    "    w2 = random.gauss(mu=0.0, sigma=1.0)\n",
    "    w3 = random.gauss(mu=0.0, sigma=1.0)\n",
    "    b  = 0\n",
    "    \n",
    "    return w1, w2, w3, b\n",
    "\n",
    "# initialize model's parameters\n",
    "w1, w2, w3, b = initialize_params()\n",
    "print(w1, w2, w3, b)"
   ]
  },
  {
   "cell_type": "code",
   "execution_count": 21,
   "id": "94ea37a5",
   "metadata": {},
   "outputs": [],
   "source": [
    "epoch_max = 50\n",
    "lr = 0.01\n",
    "losses = []\n",
    "\n",
    "for epoch in range(epoch_max):\n",
    "    for i in range(N):\n",
    "        # get a sample\n",
    "        x1 = tv_data[i]\n",
    "        x2 = radio_data[i]\n",
    "        x3 = newspaper_data[i]\n",
    "        y  = sales_data[i]\n",
    "        \n",
    "        # compute output \n",
    "        y_hat = predict(x1, x2, x3, w1, w2, w3, b)\n",
    "        \n",
    "        # compute loss\n",
    "        loss = compute_loss(y, y_hat)\n",
    "\n",
    "        # compute gradient w1, w2, w3, b\n",
    "        dl_dw1 = compute_gradient_wi(x1, y, y_hat)\n",
    "        dl_dw2 = compute_gradient_wi(x2, y, y_hat)\n",
    "        dl_dw3 = compute_gradient_wi(x3, y, y_hat)\n",
    "        dl_db  = compute_gradient_b(y, y_hat)\n",
    "\n",
    "\n",
    "        # update parameters\n",
    "        w1 = update_weight_wi(w1, dl_dw1, lr)\n",
    "        w2 = update_weight_wi(w2, dl_dw2, lr)\n",
    "        w3 = update_weight_wi(w3, dl_dw3, lr)\n",
    "        b  = update_weight_b(b, dl_db, lr)\n",
    "\n",
    "        # logging\n",
    "        losses.append(loss) "
   ]
  },
  {
   "cell_type": "code",
   "execution_count": 22,
   "id": "e263c5d5",
   "metadata": {},
   "outputs": [
    {
     "data": {
      "image/png": "[encoded data removed]",
      "text/plain": [
       "<Figure size 640x480 with 1 Axes>"
      ]
     },
     "metadata": {},
     "output_type": "display_data"
    }
   ],
   "source": [
    "plt.plot(losses)\n",
    "plt.show()"
   ]
  },
  {
   "cell_type": "markdown",
   "id": "143c7817",
   "metadata": {},
   "source": [
    "#### Inference"
   ]
  },
  {
   "cell_type": "code",
   "execution_count": 23,
   "id": "39e81837",
   "metadata": {},
   "outputs": [
    {
     "name": "stdout",
     "output_type": "stream",
     "text": [
      "16.371077211782925 12.060132790742466 2.6519591271968004 12.75042481736653\n"
     ]
    }
   ],
   "source": [
    "# get model's parameters\n",
    "print(w1, w2, w3, b)"
   ]
  },
  {
   "cell_type": "code",
   "execution_count": 24,
   "id": "26496013",
   "metadata": {},
   "outputs": [
    {
     "name": "stdout",
     "output_type": "stream",
     "text": [
      "0.5504267881241568 -0.09835863697705782 0.007579284750337614\n",
      "predicted sales is 20.595385995492315\n"
     ]
    }
   ],
   "source": [
    "# [230.1, 37.8, 69.2, 22.1]\n",
    "\n",
    "tv = 230.1\n",
    "radio = 37.8 \n",
    "newspaper = 69.2\n",
    "\n",
    "x_test = [tv, radio, newspaper]\n",
    "x_test = [(x - mean_v) / (max_v - min_v) for x in x_test]\n",
    "tv, radio, newspaper = x_test\n",
    "print(tv, radio, newspaper)\n",
    "\n",
    "sales = predict(tv, radio, newspaper, w1, w2, w3, b)\n",
    "print(f'predicted sales is {sales}')"
   ]
  },
  {
   "cell_type": "code",
   "execution_count": 25,
   "id": "609f7cd7",
   "metadata": {},
   "outputs": [
    {
     "name": "stdout",
     "output_type": "stream",
     "text": [
      "predicted sales is 8.709270932589979\n"
     ]
    }
   ],
   "source": [
    "def predict(x1, x2, x3, w1, w2, w3, b):\n",
    "    return w1*x1 + w2*x2 + w3*x3 + b\n",
    "\n",
    "# given new data\n",
    "tv = 19.2\n",
    "radio = 35.9 \n",
    "newspaper = 51.3\n",
    "\n",
    "x_test = [tv, radio, newspaper]\n",
    "x_test = [(x - mean_v) / (max_v - min_v) for x in x_test]\n",
    "tv, radio, newspaper = x_test\n",
    "\n",
    "sales = predict(tv, radio, newspaper, w1, w2, w3, b)\n",
    "print(f'predicted sales is {sales}')"
   ]
  }
 ],
 "metadata": {
  "kernelspec": {
   "display_name": "Python 3",
   "language": "python",
   "name": "python3"
  },
  "language_info": {
   "codemirror_mode": {
    "name": "ipython",
    "version": 3
   },
   "file_extension": ".py",
   "mimetype": "text/x-python",
   "name": "python",
   "nbconvert_exporter": "python",
   "pygments_lexer": "ipython3",
   "version": "3.11.8"
  }
 },
 "nbformat": 4,
 "nbformat_minor": 5
}
